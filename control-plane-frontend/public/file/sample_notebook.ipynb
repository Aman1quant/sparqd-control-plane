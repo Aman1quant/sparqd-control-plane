{
 "cells": [
  {
   "cell_type": "code",
   "execution_count": null,
   "id": "7a2f7f97-ca9d-47c5-9e96-54e5e78c5056",
   "metadata": {},
   "outputs": [],
   "source": [
    "from pyspark.sql import SparkSession\n",
    "\n",
    "spark = SparkSession.builder\n",
    "    .appName(\"DeltaLakeS3\")\n",
    "    .config(\"spark.sql.extensions\", \"io.delta.sql.DeltaSparkSessionExtension\")\n",
    "    .config(\"spark.sql.catalog.spark_catalog\", \"org.apache.spark.sql.delta.catalog.DeltaCatalog\")\n",
    "    .config(\"spark.jars.packages\", \"io.delta:delta-core_2.12:2.4.0\")\n",
    "    .getOrCreate()"
   ]
  },
  {
   "cell_type": "code",
   "execution_count": null,
   "id": "adfd8cd1-73f7-441d-a942-0c458a34143b",
   "metadata": {},
   "outputs": [],
   "source": [
    "from pyspark.sql.functions import count, max"
   ]
  },
  {
   "cell_type": "code",
   "execution_count": null,
   "id": "15b8b903-6d3f-4470-b26c-fc71f8247fdd",
   "metadata": {},
   "outputs": [],
   "source": [
    "spark.conf.set(\"spark.databricks.delta.retentionDurationCheck.enabled\", \"false\")"
   ]
  },
  {
   "cell_type": "code",
   "execution_count": null,
   "id": "c48f64da-81d6-4893-a831-73e799b76832",
   "metadata": {},
   "outputs": [],
   "source": [
    "from delta.tables import DeltaTable"
   ]
  },
  {
   "cell_type": "code",
   "execution_count": null,
   "id": "b44fce22-3d08-40e6-9e59-bfbc6c1bdb72",
   "metadata": {},
   "outputs": [],
   "source": [
    "delta_table_path = \"s3a://qd-transaction-ambking-001/table/bronze\""
   ]
  },
  {
   "cell_type": "code",
   "execution_count": null,
   "id": "3748ee12-0212-4f17-a27d-b80eb55dcaca",
   "metadata": {},
   "outputs": [],
   "source": [
    "deltaTable = DeltaTable.forPath(spark, delta_table_path)"
   ]
  },
  {
   "cell_type": "code",
   "execution_count": null,
   "id": "3ba0408e-5748-4b22-97b0-00a76ce18a1d",
   "metadata": {},
   "outputs": [],
   "source": [
    "delta_table_path_sl_com = \"s3a://qd-gaming-uc-v2/silver/silver_precal/tables/77e725e3-9c0a-fsdfdhs4c28-93c8-1da76b000674\""
   ]
  },
  {
   "cell_type": "code",
   "execution_count": null,
   "id": "3085d04f-5927-4045-aad5-45512a019468",
   "metadata": {},
   "outputs": [],
   "source": [
    "df = spark.read.format(\"delta\").load(delta_table_path_sl_com)"
   ]
  },
  {
   "cell_type": "code",
   "execution_count": null,
   "id": "675a61d2-9c4e-46ab-9dc9-9fed74929a70",
   "metadata": {},
   "outputs": [],
   "source": [
    "df.printSchema()"
   ]
  },
  {
   "cell_type": "code",
   "execution_count": null,
   "id": "3acd4eba-e06a-4f64-9f95-9198d2743e4f",
   "metadata": {},
   "outputs": [],
   "source": [
    "result_df = (\n",
    "    df.groupBy(\"pre_cal_id\")\n",
    "      .agg(\n",
    "          count(\"*\").alias(\"record_count\"),\n",
    "          max(\"update_date_ts\").alias(\"latest_update_date_ts\")\n",
    "      )\n",
    "      .orderBy(\"latest_update_date_ts\", ascending=False)\n",
    ")\n",
    "\n",
    "result_df.show(truncate=False)"
   ]
  },
  {
   "cell_type": "code",
   "execution_count": null,
   "id": "3fcf1984-cfb1-445e-a938-d6d2d96aea8e",
   "metadata": {},
   "outputs": [],
   "source": []
  }
 ],
 "metadata": {
  "kernelspec": {
   "display_name": "Python 3 (ipykernel)",
   "language": "python",
   "name": "python3"
  },
  "language_info": {
   "codemirror_mode": {
    "name": "ipython",
    "version": 3
   },
   "file_extension": ".py",
   "mimetype": "text/x-python",
   "name": "python",
   "nbconvert_exporter": "python",
   "pygments_lexer": "ipython3",
   "version": "3.11.10"
  }
 },
 "nbformat": 4,
 "nbformat_minor": 5
}
